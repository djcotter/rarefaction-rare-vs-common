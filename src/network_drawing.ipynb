{
 "cells": [
  {
   "cell_type": "code",
   "execution_count": 1,
   "metadata": {},
   "outputs": [],
   "source": [
    "import networkx as nx\n",
    "import pandas as pd\n",
    "import matplotlib as mpl\n",
    "import numpy as np\n",
    "import matplotlib.pyplot as plt\n",
    "import pygraphviz"
   ]
  },
  {
   "cell_type": "code",
   "execution_count": 2,
   "metadata": {},
   "outputs": [],
   "source": [
    "A = pd.read_csv('data/ref_files/unordered_patterns_adjacency_matrix.csv', index_col=0, header=0)"
   ]
  },
  {
   "cell_type": "code",
   "execution_count": 3,
   "metadata": {},
   "outputs": [],
   "source": [
    "G = nx.from_pandas_adjacency(A)"
   ]
  },
  {
   "cell_type": "code",
   "execution_count": 4,
   "metadata": {},
   "outputs": [],
   "source": [
    "attrs = pd.read_csv('data/ref_files/unordered_patterns_base_attributes.tsv', sep='\\t', header=0)\n",
    "#pos_dict = {row['node']: (row['x'], row['y']*-1) for i, row in attrs.iterrows()}\n",
    "layer = {row['node']: row['x'] for i, row in attrs.iterrows()}\n",
    "#nx.set_node_attributes(G, pos_dict, \"pos\")\n",
    "nx.set_node_attributes(G, layer, 'layer')"
   ]
  },
  {
   "cell_type": "code",
   "execution_count": 5,
   "metadata": {},
   "outputs": [],
   "source": [
    "sx = 2\n",
    "nx.set_node_attributes(G, nx.multipartite_layout(G, subset_key=\"layer\", scale=3), \"pos\")\n",
    "for n in G:\n",
    "    G.nodes[n]['pos'] = \"{},{}!\".format(G.nodes[n]['pos'][0]*sx, G.nodes[n]['pos'][1])"
   ]
  },
  {
   "cell_type": "code",
   "execution_count": 6,
   "metadata": {},
   "outputs": [],
   "source": [
    "def colorFader(c1,c2,mix=0): #fade (linear interpolate) from color c1 (at mix=0) to c2 (mix=1)\n",
    "    c1=np.array(mpl.colors.to_rgb(c1))\n",
    "    c2=np.array(mpl.colors.to_rgb(c2))\n",
    "    return mpl.colors.to_hex((1-mix)*c1 + mix*c2)\n",
    "\n",
    "def colorFunc(c1,c2,prop):\n",
    "    if prop >= 0.1:\n",
    "        return(colorFader(c1,c2,1/2))\n",
    "    elif prop < 0.1 and prop >= 0.01:\n",
    "        return(colorFader(c1,c2,1/4))\n",
    "    elif prop < 0.01 and prop >= 0.001:\n",
    "        return(colorFader(c1,c2,1/16))\n",
    "    else:\n",
    "        return(colorFader(c1,c2,0))"
   ]
  },
  {
   "cell_type": "code",
   "execution_count": 7,
   "metadata": {},
   "outputs": [],
   "source": [
    "# add proportion data to graph\n",
    "proportion_file = pd.read_csv('etc/22_g-300_all-snps_patterns.txt', sep='\\t', header=0)"
   ]
  },
  {
   "cell_type": "code",
   "execution_count": 19,
   "metadata": {},
   "outputs": [],
   "source": [
    "#node_labels = {row['node']: f'<{{<B>{row[\"node\"][0]}U{row[\"node\"][2]}R{row[\"node\"][4]}C</B>|<FONT POINT-SIZE=\"10.0\">{round(row[\"prop\"],4)}</FONT>}}>' for i, row in proportion_file.iterrows()}\n",
    "node_labels = {row['node']: f'<<TABLE BORDER=\"0\" CELLBORDER=\"0\" CELLSPACING=\"2\">'\n",
    "                            f'<TR><TD><FONT POINT-SIZE=\"32.0\"><B>({row[\"node\"].replace(\",\",\", \")})</B></FONT></TD></TR>'\n",
    "                            f'<TR><TD><FONT POINT-SIZE=\"24.0\">{row[\"prop\"]:{\".2%\" if row[\"prop\"] > 0.0001 else \".2e\"}}</FONT></TD></TR></TABLE>>' \n",
    "                            for i, row in proportion_file.iterrows()}\n",
    "#node_labels = {row['node']: '{{{}U{}R{}C | {}}}'.format(row[\"node\"][0],row[\"node\"][2], row[\"node\"][4], row[\"prop\"]) for i, row in proportion_file.iterrows()}\n",
    "\n",
    "nx.set_node_attributes(G, node_labels, 'label')"
   ]
  },
  {
   "cell_type": "code",
   "execution_count": 20,
   "metadata": {},
   "outputs": [],
   "source": [
    "prop_colors = {row['node']: colorFunc(\"white\", \"red\", row['prop']) for i, row in proportion_file.iterrows()}\n",
    "nx.set_node_attributes(G, prop_colors, 'fillcolor')"
   ]
  },
  {
   "cell_type": "code",
   "execution_count": 26,
   "metadata": {},
   "outputs": [],
   "source": [
    "A = nx.nx_agraph.to_agraph(G)  # convert to a graphviz graph\n",
    "A.layout(prog=\"neato\", args=\"-n\")\n",
    "A.node_attr[\"shape\"] = \"box\"\n",
    "A.node_attr[\"style\"] = \"rounded,filled,solid\"\n",
    "A.graph_attr[\"overlap\"] = \"scale\"\n",
    "A.node_attr[\"penwidth\"] = \"2\"\n",
    "A.edge_attr[\"penwidth\"] = \"3\"\n",
    "#A.graph_attr[\"size\"] = \"5.5\"\n",
    "#A.graph_attr[\"ratio\"] = \"0.75\"\n",
    "A.draw(\"figures/file1.pdf\", prog=\"neato\", args=\"-n\")  # Draw with pygraphviz\n",
    "#A.write(\"file.dot\")"
   ]
  }
 ],
 "metadata": {
  "kernelspec": {
   "display_name": "Python 3.9.7 ('base')",
   "language": "python",
   "name": "python3"
  },
  "language_info": {
   "codemirror_mode": {
    "name": "ipython",
    "version": 3
   },
   "file_extension": ".py",
   "mimetype": "text/x-python",
   "name": "python",
   "nbconvert_exporter": "python",
   "pygments_lexer": "ipython3",
   "version": "3.9.7"
  },
  "orig_nbformat": 4,
  "vscode": {
   "interpreter": {
    "hash": "3bbc2e96db3e84cc784e058095bdd8386fd1368609c549568d93457d3b69d7be"
   }
  }
 },
 "nbformat": 4,
 "nbformat_minor": 2
}
