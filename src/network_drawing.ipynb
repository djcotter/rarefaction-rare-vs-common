{
 "cells": [
  {
   "cell_type": "code",
   "execution_count": 73,
   "metadata": {},
   "outputs": [],
   "source": [
    "import networkx as nx\n",
    "import pandas as pd\n",
    "import matplotlib as mpl\n",
    "import numpy as np\n",
    "import matplotlib.pyplot as plt\n",
    "import pygraphviz"
   ]
  },
  {
   "cell_type": "code",
   "execution_count": 74,
   "metadata": {},
   "outputs": [],
   "source": [
    "A = pd.read_csv('data/ref_files/unordered_patterns_adjacency_matrix.csv', index_col=0, header=0)"
   ]
  },
  {
   "cell_type": "code",
   "execution_count": 75,
   "metadata": {},
   "outputs": [],
   "source": [
    "G = nx.from_pandas_adjacency(A)"
   ]
  },
  {
   "cell_type": "code",
   "execution_count": 76,
   "metadata": {},
   "outputs": [],
   "source": [
    "attrs = pd.read_csv('data/ref_files/unordered_patterns_base_attributes.tsv', sep='\\t', header=0)\n",
    "#pos_dict = {row['node']: (row['x'], row['y']*-1) for i, row in attrs.iterrows()}\n",
    "layer = {row['node']: row['x'] for i, row in attrs.iterrows()}\n",
    "#nx.set_node_attributes(G, pos_dict, \"pos\")\n",
    "nx.set_node_attributes(G, layer, 'layer')"
   ]
  },
  {
   "cell_type": "code",
   "execution_count": 77,
   "metadata": {},
   "outputs": [],
   "source": [
    "nx.set_node_attributes(G, nx.multipartite_layout(G, subset_key=\"layer\"), \"pos\")\n",
    "for n in G:\n",
    "    G.nodes[n]['pos'] = \"{},{}!\".format(G.nodes[n]['pos'][0], G.nodes[n]['pos'][1])"
   ]
  },
  {
   "cell_type": "code",
   "execution_count": 78,
   "metadata": {},
   "outputs": [],
   "source": [
    "def colorFader(c1,c2,mix=0): #fade (linear interpolate) from color c1 (at mix=0) to c2 (mix=1)\n",
    "    c1=np.array(mpl.colors.to_rgb(c1))\n",
    "    c2=np.array(mpl.colors.to_rgb(c2))\n",
    "    return mpl.colors.to_hex((1-mix)*c1 + mix*c2)"
   ]
  },
  {
   "cell_type": "code",
   "execution_count": 79,
   "metadata": {},
   "outputs": [],
   "source": [
    "# add proportion data to graph\n",
    "proportion_file = pd.read_csv('data/ref_files/unordered_patterns_proportions.tsv', sep='\\t', header=0)\n",
    "\n",
    "prop_labels = {row['node']: f'<{{<B>{row[\"node\"][0]}U{row[\"node\"][2]}R{row[\"node\"][4]}C</B>|<FONT POINT-SIZE=\"10.0\">{row[\"prop\"]}</FONT>}}>' for i, row in proportion_file.iterrows()}\n",
    "#prop_labels = {row['node']: '{{{}U{}R{}C | {}}}'.format(row[\"node\"][0],row[\"node\"][2], row[\"node\"][4], row[\"prop\"]) for i, row in proportion_file.iterrows()}\n",
    "nx.set_node_attributes(G, prop_labels, 'label')"
   ]
  },
  {
   "cell_type": "code",
   "execution_count": 80,
   "metadata": {},
   "outputs": [],
   "source": [
    "prop_colors = {row['node']: colorFader(\"white\", \"red\", row['prop']) for i, row in proportion_file.iterrows()}\n",
    "nx.set_node_attributes(G, prop_colors, 'fillcolor')"
   ]
  },
  {
   "cell_type": "code",
   "execution_count": 81,
   "metadata": {},
   "outputs": [],
   "source": [
    "A = nx.nx_agraph.to_agraph(G)  # convert to a graphviz graph\n",
    "A.layout(prog=\"neato\", args=\"-n\")\n",
    "A.node_attr[\"shape\"] = \"record\"\n",
    "A.node_attr[\"style\"] = \"rounded,filled\"\n",
    "A.graph_attr[\"overlap\"] =\"scale\"\n",
    "A.draw(\"file.pdf\", prog=\"neato\")  # Draw with pygraphviz\n",
    "A.write(\"file.dot\")"
   ]
  }
 ],
 "metadata": {
  "kernelspec": {
   "display_name": "Python 3.9.7 ('base')",
   "language": "python",
   "name": "python3"
  },
  "language_info": {
   "codemirror_mode": {
    "name": "ipython",
    "version": 3
   },
   "file_extension": ".py",
   "mimetype": "text/x-python",
   "name": "python",
   "nbconvert_exporter": "python",
   "pygments_lexer": "ipython3",
   "version": "3.9.7"
  },
  "orig_nbformat": 4,
  "vscode": {
   "interpreter": {
    "hash": "3bbc2e96db3e84cc784e058095bdd8386fd1368609c549568d93457d3b69d7be"
   }
  }
 },
 "nbformat": 4,
 "nbformat_minor": 2
}
